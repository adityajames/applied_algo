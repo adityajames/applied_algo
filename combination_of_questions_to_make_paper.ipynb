{
 "cells": [
  {
   "cell_type": "markdown",
   "metadata": {},
   "source": [
    "### Given a list of questions of certain number of marks and the total marks in an exam what is the minimum number of questions that will make the exam"
   ]
  },
  {
   "cell_type": "code",
   "execution_count": 6,
   "metadata": {},
   "outputs": [],
   "source": [
    "def min_questions(n,question_points_list):\n",
    "\n",
    "    if n==0:\n",
    "        return(\"points need to be greater than 0\")\n",
    "\n",
    "    table=[[0 for i in range(0,n+1)] for j in range(0,len(question_points_list))]\n",
    "\n",
    "    for j in range(0,len(question_points_list)):\n",
    "        for i in range(0,len(table[0])):\n",
    "            if j==0:\n",
    "                if i%question_points_list[j]==0:\n",
    "                    table[j][i]=int(i//question_points_list[j])\n",
    "            else:        \n",
    "                if question_points_list[j]>i:\n",
    "                    table[j][i]=table[j-1][i]\n",
    "                else:\n",
    "                    x=i-question_points_list[j]\n",
    "                    coins=table[j][x]+1\n",
    "                    if table[j-1][i]!=0:\n",
    "                        table[j][i]=min(coins,table[j-1][i])\n",
    "                    else:\n",
    "                        table[j][i]=coins\n",
    "    if table[-1][-1]==0:\n",
    "            min_questions=\"No possible combinations\"\n",
    "    else:\n",
    "        min_questions=table[-1][-1]\n",
    "\n",
    "    return(min_questions)"
   ]
  },
  {
   "cell_type": "code",
   "execution_count": 7,
   "metadata": {},
   "outputs": [
    {
     "data": {
      "text/plain": [
       "7"
      ]
     },
     "execution_count": 7,
     "metadata": {},
     "output_type": "execute_result"
    }
   ],
   "source": [
    "min_questions(29,[2,1,5])"
   ]
  },
  {
   "cell_type": "code",
   "execution_count": 8,
   "metadata": {},
   "outputs": [
    {
     "data": {
      "text/plain": [
       "7"
      ]
     },
     "execution_count": 8,
     "metadata": {},
     "output_type": "execute_result"
    }
   ],
   "source": [
    "min_questions(29,[1,2,5])"
   ]
  },
  {
   "cell_type": "code",
   "execution_count": 9,
   "metadata": {},
   "outputs": [
    {
     "data": {
      "text/plain": [
       "'No possible combinations'"
      ]
     },
     "execution_count": 9,
     "metadata": {},
     "output_type": "execute_result"
    }
   ],
   "source": [
    "min_questions(3,[5])"
   ]
  },
  {
   "cell_type": "code",
   "execution_count": 10,
   "metadata": {},
   "outputs": [
    {
     "data": {
      "text/plain": [
       "'points need to be greater than 0'"
      ]
     },
     "execution_count": 10,
     "metadata": {},
     "output_type": "execute_result"
    }
   ],
   "source": [
    "min_questions(0,[10])"
   ]
  },
  {
   "cell_type": "code",
   "execution_count": null,
   "metadata": {},
   "outputs": [],
   "source": []
  }
 ],
 "metadata": {
  "kernelspec": {
   "display_name": "Python 3.9.6 64-bit",
   "language": "python",
   "name": "python3"
  },
  "language_info": {
   "codemirror_mode": {
    "name": "ipython",
    "version": 3
   },
   "file_extension": ".py",
   "mimetype": "text/x-python",
   "name": "python",
   "nbconvert_exporter": "python",
   "pygments_lexer": "ipython3",
   "version": "3.9.6"
  },
  "orig_nbformat": 4,
  "vscode": {
   "interpreter": {
    "hash": "e3b5fbd04f68e2b0d30e8aa6dfd8616d885f307650246806c8ef721be6274b54"
   }
  }
 },
 "nbformat": 4,
 "nbformat_minor": 2
}
