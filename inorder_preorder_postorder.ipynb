{
 "cells": [
  {
   "cell_type": "markdown",
   "metadata": {},
   "source": [
    "### Given a complete binary tree create inorder,preorder and postorder traversals"
   ]
  },
  {
   "cell_type": "code",
   "execution_count": 1,
   "metadata": {},
   "outputs": [],
   "source": [
    "class Tree:\n",
    "\n",
    "    def __init__(self,x):\n",
    "        self.my_tree=x\n",
    "   \n",
    "\n",
    "    def preorder(self,root,my_tree,my_list):\n",
    "\n",
    "        if root>len(my_tree)-1 or my_tree[root]==None:\n",
    "            return\n",
    "        else:\n",
    "            my_list.append(my_tree[root])\n",
    "            self.preorder(2*root+1,my_tree,my_list)\n",
    "            self.preorder(2*root+2,my_tree,my_list)\n",
    "        return my_list\n",
    "\n",
    "    def inorder(self,root,my_tree,my_list):\n",
    "\n",
    "        if root>len(my_tree)-1 or my_tree[root]==None:\n",
    "            return\n",
    "        else:\n",
    "            \n",
    "            self.inorder(2*root+1,my_tree,my_list)\n",
    "            my_list.append(my_tree[root])\n",
    "            self.inorder(2*root+2,my_tree,my_list)\n",
    "        return my_list\n",
    "\n",
    "    def postorder(self,root,my_tree,my_list):\n",
    "\n",
    "        if root>len(my_tree)-1 or my_tree[root]==None:\n",
    "            return\n",
    "        else:\n",
    "            \n",
    "            self.postorder(2*root+1,my_tree,my_list)\n",
    "            self.postorder(2*root+2,my_tree,my_list)\n",
    "            my_list.append(my_tree[root])\n",
    "        return my_list\n",
    "    \n",
    "    def print(self):\n",
    "        print(\"Inorder:\",self.inorder(0,self.my_tree,[]))\n",
    "        print(\"Preorder:\",self.preorder(0,self.my_tree,[]))\n",
    "        print(\"Postorder:\",self.postorder(0,self.my_tree,[]))"
   ]
  },
  {
   "cell_type": "code",
   "execution_count": 2,
   "metadata": {},
   "outputs": [
    {
     "name": "stdout",
     "output_type": "stream",
     "text": [
      "Inorder: [7, 3, 8, 1, 9, 4, 0, 5, 2, 6]\n",
      "Preorder: [0, 1, 3, 7, 8, 4, 9, 2, 5, 6]\n",
      "Postorder: [7, 8, 3, 9, 4, 1, 5, 6, 2, 0]\n"
     ]
    }
   ],
   "source": [
    "tree = Tree([0,1,2,3,4,5,6,7,8,9])\n",
    "tree.print()"
   ]
  },
  {
   "cell_type": "code",
   "execution_count": 3,
   "metadata": {},
   "outputs": [
    {
     "name": "stdout",
     "output_type": "stream",
     "text": [
      "Inorder: [7, 3, 8, 1, 9, 4, 0, 5, 2, 13, 6, 14]\n",
      "Preorder: [0, 1, 3, 7, 8, 4, 9, 2, 5, 6, 13, 14]\n",
      "Postorder: [7, 8, 3, 9, 4, 1, 5, 13, 14, 6, 2, 0]\n"
     ]
    }
   ],
   "source": [
    "tree = Tree([0,1,2,3,4,5,6,7,8,9,None,None,None,13,14])\n",
    "tree.print()"
   ]
  },
  {
   "cell_type": "code",
   "execution_count": 4,
   "metadata": {},
   "outputs": [
    {
     "name": "stdout",
     "output_type": "stream",
     "text": [
      "Inorder: [7, 3, 8, 1, 9, 4, 0]\n",
      "Preorder: [0, 1, 3, 7, 8, 4, 9]\n",
      "Postorder: [7, 8, 3, 9, 4, 1, 0]\n"
     ]
    }
   ],
   "source": [
    "tree = Tree([0,1,None,3,4,None,None,7,8,9,None,None,None])\n",
    "tree.print()"
   ]
  },
  {
   "cell_type": "code",
   "execution_count": 5,
   "metadata": {},
   "outputs": [
    {
     "name": "stdout",
     "output_type": "stream",
     "text": [
      "Inorder: [0]\n",
      "Preorder: [0]\n",
      "Postorder: [0]\n"
     ]
    }
   ],
   "source": [
    "tree = Tree([0])\n",
    "tree.print()"
   ]
  },
  {
   "cell_type": "code",
   "execution_count": 6,
   "metadata": {},
   "outputs": [
    {
     "name": "stdout",
     "output_type": "stream",
     "text": [
      "Inorder: None\n",
      "Preorder: None\n",
      "Postorder: None\n"
     ]
    }
   ],
   "source": [
    "tree = Tree([None])\n",
    "tree.print()"
   ]
  },
  {
   "cell_type": "code",
   "execution_count": null,
   "metadata": {},
   "outputs": [],
   "source": []
  }
 ],
 "metadata": {
  "kernelspec": {
   "display_name": "Python 3.9.6 64-bit",
   "language": "python",
   "name": "python3"
  },
  "language_info": {
   "codemirror_mode": {
    "name": "ipython",
    "version": 3
   },
   "file_extension": ".py",
   "mimetype": "text/x-python",
   "name": "python",
   "nbconvert_exporter": "python",
   "pygments_lexer": "ipython3",
   "version": "3.9.6"
  },
  "orig_nbformat": 4,
  "vscode": {
   "interpreter": {
    "hash": "e3b5fbd04f68e2b0d30e8aa6dfd8616d885f307650246806c8ef721be6274b54"
   }
  }
 },
 "nbformat": 4,
 "nbformat_minor": 2
}
