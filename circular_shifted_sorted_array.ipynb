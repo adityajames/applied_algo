{
 "cells": [
  {
   "cell_type": "markdown",
   "metadata": {},
   "source": [
    "### Given a sorted array that is circularly shifted, find the number of elements by which it is shifted"
   ]
  },
  {
   "cell_type": "code",
   "execution_count": 1,
   "metadata": {},
   "outputs": [],
   "source": [
    "def circ_shift(listed):\n",
    "    low=0\n",
    "    high=len(listed)-1\n",
    "    mid=(low+high)//2\n",
    "    cntr=0\n",
    "\n",
    "    while True:\n",
    "        if listed[low]<listed[mid]:\n",
    "            if listed[mid]<listed[high]:\n",
    "                high=mid\n",
    "                mid=(low+high)//2\n",
    "            else:\n",
    "                low=mid\n",
    "                mid=(low+high)//2\n",
    "        else:\n",
    "            high=mid\n",
    "            mid=(low+high)//2\n",
    "        cntr+=1\n",
    "        # print(cntr)\n",
    "        \n",
    "        if high==low:\n",
    "            break\n",
    "\n",
    "\n",
    "    if listed[low]<listed[low+1] and listed[low]<listed[low-1]:\n",
    "        return(low)\n",
    "    elif listed[low+1]<listed[low]:\n",
    "        return(low+1)\n",
    "    elif listed[low-1]<listed[low]:\n",
    "        return(low-1)"
   ]
  },
  {
   "cell_type": "code",
   "execution_count": 2,
   "metadata": {},
   "outputs": [
    {
     "data": {
      "text/plain": [
       "1"
      ]
     },
     "execution_count": 2,
     "metadata": {},
     "output_type": "execute_result"
    }
   ],
   "source": [
    "# Shift by 1\n",
    "my_lst=[42,5,15,27,29,35]\n",
    "circ_shift(my_lst)\n",
    "\n"
   ]
  },
  {
   "cell_type": "code",
   "execution_count": 3,
   "metadata": {},
   "outputs": [
    {
     "data": {
      "text/plain": [
       "2"
      ]
     },
     "execution_count": 3,
     "metadata": {},
     "output_type": "execute_result"
    }
   ],
   "source": [
    "my_lst=[35,42,5,15,27,29]\n",
    "circ_shift(my_lst)\n"
   ]
  },
  {
   "cell_type": "code",
   "execution_count": 4,
   "metadata": {},
   "outputs": [
    {
     "data": {
      "text/plain": [
       "3"
      ]
     },
     "execution_count": 4,
     "metadata": {},
     "output_type": "execute_result"
    }
   ],
   "source": [
    "my_lst=[29,35,42,5,15,27]\n",
    "circ_shift(my_lst)\n"
   ]
  },
  {
   "cell_type": "code",
   "execution_count": 5,
   "metadata": {},
   "outputs": [
    {
     "data": {
      "text/plain": [
       "4"
      ]
     },
     "execution_count": 5,
     "metadata": {},
     "output_type": "execute_result"
    }
   ],
   "source": [
    "my_lst=[27,29,35,42,5,15]\n",
    "circ_shift(my_lst)\n"
   ]
  },
  {
   "cell_type": "code",
   "execution_count": 6,
   "metadata": {},
   "outputs": [
    {
     "data": {
      "text/plain": [
       "5"
      ]
     },
     "execution_count": 6,
     "metadata": {},
     "output_type": "execute_result"
    }
   ],
   "source": [
    "my_lst=[15,27,29,35,42,5]\n",
    "circ_shift(my_lst)\n"
   ]
  },
  {
   "cell_type": "code",
   "execution_count": 7,
   "metadata": {},
   "outputs": [
    {
     "data": {
      "text/plain": [
       "0"
      ]
     },
     "execution_count": 7,
     "metadata": {},
     "output_type": "execute_result"
    }
   ],
   "source": [
    "my_lst=[5,15,27,29,35,42]\n",
    "circ_shift(my_lst)"
   ]
  },
  {
   "cell_type": "code",
   "execution_count": null,
   "metadata": {},
   "outputs": [],
   "source": []
  }
 ],
 "metadata": {
  "kernelspec": {
   "display_name": "Python 3.9.6 64-bit",
   "language": "python",
   "name": "python3"
  },
  "language_info": {
   "codemirror_mode": {
    "name": "ipython",
    "version": 3
   },
   "file_extension": ".py",
   "mimetype": "text/x-python",
   "name": "python",
   "nbconvert_exporter": "python",
   "pygments_lexer": "ipython3",
   "version": "3.9.6"
  },
  "orig_nbformat": 4,
  "vscode": {
   "interpreter": {
    "hash": "e3b5fbd04f68e2b0d30e8aa6dfd8616d885f307650246806c8ef721be6274b54"
   }
  }
 },
 "nbformat": 4,
 "nbformat_minor": 2
}
