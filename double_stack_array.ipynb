{
 "cells": [
  {
   "cell_type": "markdown",
   "metadata": {},
   "source": [
    "### Create a double stack array that handles underflow and overflow cases"
   ]
  },
  {
   "cell_type": "code",
   "execution_count": 2,
   "metadata": {},
   "outputs": [],
   "source": [
    "def pushl(stack_list,x,stack_len,top_left_stack,top_right_stack):\n",
    "    size_of_stack=(top_left_stack-0)+(stack_len-1-top_right_stack)\n",
    "    if size_of_stack==stack_len:\n",
    "        res=\"Overflow-Stack is full\"\n",
    "        return((res,None))\n",
    "    else:\n",
    "        stack_list[top_left_stack]=x\n",
    "        top_left_stack+=1\n",
    "        return(stack_list,top_left_stack)\n",
    "\n",
    "def pushr(stack_list,x,stack_len,top_left_stack,top_right_stack):\n",
    "    size_of_stack=(top_left_stack-0)+(stack_len-1-top_right_stack)\n",
    "    if size_of_stack==stack_len:\n",
    "        res=\"Overflow-Stack is full\"\n",
    "        return((res,None))\n",
    "    else:\n",
    "        stack_list[top_right_stack]=x\n",
    "        top_right_stack-=1\n",
    "        return(stack_list,top_right_stack)\n",
    "\n",
    "def popl(stack_list,x,stack_len,top_left_stack,top_right_stack):\n",
    "\n",
    "    if top_left_stack==0:\n",
    "        res=\"Underflow-Stack is empty\"\n",
    "        return(res,None)\n",
    "    else:\n",
    "        pop_val=stack_list[top_left_stack-1]\n",
    "        print(pop_val)\n",
    "        stack_list[top_left_stack-1]=None\n",
    "        top_left_stack-=1\n",
    "        return(stack_list,top_left_stack)\n",
    "\n",
    "def popr(stack_list,x,stack_len,top_left_stack,top_right_stack):\n",
    "\n",
    "    if top_right_stack==stack_len-1:\n",
    "        res=\"Underflow-Stack is empty\"\n",
    "        return(res,None)\n",
    "    else:\n",
    "        pop_val=stack_list[top_right_stack+1]\n",
    "        print(pop_val)\n",
    "        stack_list[top_right_stack+1]=None\n",
    "        top_right_stack+=1\n",
    "        return(stack_list,top_right_stack)\n",
    "\n",
    "        \n",
    "def double_stack(comm,n):\n",
    "\n",
    "    if n==0:\n",
    "        print(\"Size specified is 0 so no values can be pushed\")\n",
    "        return\n",
    "\n",
    "    flag_to_break=0\n",
    "\n",
    "    top_left_stk=0\n",
    "    top_right_stk=n-1\n",
    "    mod_list=[None for i in range(0,n)]\n",
    "\n",
    "    for i in range(0,len(comm)):\n",
    "\n",
    "        # pprint.pp(locals())\n",
    "        # print(\"**\"*20)\n",
    "\n",
    "        if flag_to_break==1:\n",
    "            break\n",
    "\n",
    "        #print(\"before operation:\",mod_list)\n",
    "\n",
    "        if isinstance(comm[i],tuple):\n",
    "            to_exec=comm[i][0]\n",
    "        else:\n",
    "            to_exec=comm[i]\n",
    "        \n",
    "        #print(\"operation=\",to_exec)\n",
    "        \n",
    "        if to_exec==\"pushl\":\n",
    "            changed_list=pushl(mod_list,comm[i][1],n,top_left_stk,top_right_stk)\n",
    "\n",
    "            if isinstance(changed_list[0],list):\n",
    "                mod_list=changed_list[0].copy()\n",
    "                top_left_stk=changed_list[1]                \n",
    "                \n",
    "            else:\n",
    "                print(changed_list[0])\n",
    "                flag_to_break=1\n",
    "\n",
    "        elif to_exec==\"popl\":\n",
    "            changed_list=popl(mod_list,comm[i][1],n,top_left_stk,top_right_stk)\n",
    "            if isinstance(changed_list[0],list):\n",
    "                mod_list=changed_list[0].copy()\n",
    "                top_left_stk=changed_list[1]\n",
    "                \n",
    "            else:\n",
    "                print(changed_list[0])\n",
    "                flag_to_break=1\n",
    "        \n",
    "        elif to_exec==\"pushr\":\n",
    "            changed_list=pushr(mod_list,comm[i][1],n,top_left_stk,top_right_stk)\n",
    "\n",
    "            if isinstance(changed_list[0],list):\n",
    "                mod_list=changed_list[0].copy()\n",
    "                top_right_stk=changed_list[1]                \n",
    "                \n",
    "            else:\n",
    "                print(changed_list[0])\n",
    "                flag_to_break=1\n",
    "        \n",
    "        elif to_exec==\"popr\":\n",
    "            changed_list=popr(mod_list,comm[i][1],n,top_left_stk,top_right_stk)\n",
    "            if isinstance(changed_list[0],list):\n",
    "                mod_list=changed_list[0].copy()\n",
    "                top_right_stk=changed_list[1]\n",
    "                \n",
    "            else:\n",
    "                print(changed_list[0])\n",
    "                flag_to_break=1\n",
    "        \n",
    "        #print(\"after operation:\",mod_list)\n",
    "        "
   ]
  },
  {
   "cell_type": "code",
   "execution_count": 3,
   "metadata": {},
   "outputs": [
    {
     "name": "stdout",
     "output_type": "stream",
     "text": [
      "3\n",
      "1\n",
      "500\n",
      "300\n",
      "2\n",
      "Underflow-Stack is empty\n"
     ]
    }
   ],
   "source": [
    "commands_to_exec=([(\"pushl\",1),(\"pushr\",2),(\"pushl\",3),(\"pushr\",300),(\"pushr\",500),(\"popl\"),(\"popl\"),(\"popr\"),(\"popr\"),(\"popr\"),(\"popr\")])\n",
    "n=10\n",
    "\n",
    "double_stack(commands_to_exec,n)"
   ]
  },
  {
   "cell_type": "code",
   "execution_count": 4,
   "metadata": {},
   "outputs": [
    {
     "name": "stdout",
     "output_type": "stream",
     "text": [
      "4\n",
      "3\n",
      "300\n",
      "200\n"
     ]
    }
   ],
   "source": [
    "commands_to_exec=([(\"pushr\",1),(\"pushr\",2),(\"pushr\",3),(\"pushr\",4),(\"popr\"),(\"popr\"),(\"pushl\",200),(\"pushl\",300),(\"pushr\",400),(\"popl\"),(\"popl\")])\n",
    "n=10\n",
    "double_stack(commands_to_exec,n)"
   ]
  },
  {
   "cell_type": "code",
   "execution_count": 5,
   "metadata": {},
   "outputs": [
    {
     "name": "stdout",
     "output_type": "stream",
     "text": [
      "Underflow-Stack is empty\n"
     ]
    }
   ],
   "source": [
    "commands_to_exec=([(\"pushl\",1),(\"pushl\",2),(\"pushl\",3),(\"pushl\",4),(\"popr\"),(\"popr\"),(\"popr\"),(\"popr\"),(\"popr\")])\n",
    "n=4\n",
    "double_stack(commands_to_exec,n)"
   ]
  },
  {
   "cell_type": "code",
   "execution_count": 6,
   "metadata": {},
   "outputs": [
    {
     "name": "stdout",
     "output_type": "stream",
     "text": [
      "Overflow-Stack is full\n"
     ]
    }
   ],
   "source": [
    "commands_to_exec=([(\"pushr\",1),(\"pushr\",2),(\"pushl\",3),(\"pushl\",4),(\"pushl\",40)])\n",
    "n=4\n",
    "\n",
    "double_stack(commands_to_exec,n)"
   ]
  },
  {
   "cell_type": "code",
   "execution_count": null,
   "metadata": {},
   "outputs": [],
   "source": []
  }
 ],
 "metadata": {
  "kernelspec": {
   "display_name": "Python 3.9.6 64-bit",
   "language": "python",
   "name": "python3"
  },
  "language_info": {
   "codemirror_mode": {
    "name": "ipython",
    "version": 3
   },
   "file_extension": ".py",
   "mimetype": "text/x-python",
   "name": "python",
   "nbconvert_exporter": "python",
   "pygments_lexer": "ipython3",
   "version": "3.9.6"
  },
  "orig_nbformat": 4,
  "vscode": {
   "interpreter": {
    "hash": "e3b5fbd04f68e2b0d30e8aa6dfd8616d885f307650246806c8ef721be6274b54"
   }
  }
 },
 "nbformat": 4,
 "nbformat_minor": 2
}
