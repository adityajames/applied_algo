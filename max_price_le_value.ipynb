{
 "cells": [
  {
   "cell_type": "markdown",
   "metadata": {},
   "source": [
    "### Given a incresing or decreasing order of values find the sum of the contiguous combinations that can result in the maximum value less than the given target value"
   ]
  },
  {
   "cell_type": "code",
   "execution_count": 13,
   "metadata": {},
   "outputs": [],
   "source": [
    "def maximum_amount(prices_list,S):\n",
    "\n",
    "    if len(prices_list)<2 or S<0:\n",
    "        return(0)\n",
    "\n",
    "    i=0\n",
    "    j=0\n",
    "    curr_tot=0\n",
    "    max_tot=0\n",
    "    \n",
    "    \n",
    "    while j<len(prices_list):\n",
    "        curr_tot=prices_list[j]\n",
    "        for i in range(j+1,len(prices_list)):\n",
    "          \n",
    "            curr_tot=curr_tot+prices_list[i]\n",
    "            \n",
    "            if curr_tot>=S:\n",
    "                break\n",
    "\n",
    "            elif curr_tot>=max_tot:\n",
    "                max_tot=curr_tot\n",
    "           \n",
    "        if curr_tot>=S or i==len(prices_list)-1:\n",
    "            j+=1\n",
    "        \n",
    "\n",
    "        \n",
    "    return(max_tot)"
   ]
  },
  {
   "cell_type": "code",
   "execution_count": 14,
   "metadata": {},
   "outputs": [
    {
     "name": "stdout",
     "output_type": "stream",
     "text": [
      "21\n"
     ]
    }
   ],
   "source": [
    "# Random set of values descending\n",
    "x=[10,8,6,4,2,1]\n",
    "print(maximum_amount(x,24))"
   ]
  },
  {
   "cell_type": "code",
   "execution_count": 15,
   "metadata": {},
   "outputs": [
    {
     "name": "stdout",
     "output_type": "stream",
     "text": [
      "0\n"
     ]
    }
   ],
   "source": [
    "# Sequence is only of length 1\n",
    "x=[100]\n",
    "print(maximum_amount(x,100))\n"
   ]
  },
  {
   "cell_type": "code",
   "execution_count": 16,
   "metadata": {},
   "outputs": [
    {
     "name": "stdout",
     "output_type": "stream",
     "text": [
      "0\n"
     ]
    }
   ],
   "source": [
    "# No prices at all\n",
    "x=[]\n",
    "print(maximum_amount(x,100))"
   ]
  },
  {
   "cell_type": "code",
   "execution_count": 17,
   "metadata": {},
   "outputs": [
    {
     "name": "stdout",
     "output_type": "stream",
     "text": [
      "9\n"
     ]
    }
   ],
   "source": [
    "# Random sequence\n",
    "x=[1,2,4,5,0,4,2,1]\n",
    "print(maximum_amount(x,10))"
   ]
  },
  {
   "cell_type": "code",
   "execution_count": 18,
   "metadata": {},
   "outputs": [
    {
     "name": "stdout",
     "output_type": "stream",
     "text": [
      "0\n"
     ]
    }
   ],
   "source": [
    "# Negative dollar amount to spend\n",
    "x=[1,2,4,5,10,4,2,1]\n",
    "print(maximum_amount(x,-100))"
   ]
  },
  {
   "cell_type": "code",
   "execution_count": null,
   "metadata": {},
   "outputs": [],
   "source": []
  }
 ],
 "metadata": {
  "kernelspec": {
   "display_name": "Python 3.9.6 64-bit",
   "language": "python",
   "name": "python3"
  },
  "language_info": {
   "codemirror_mode": {
    "name": "ipython",
    "version": 3
   },
   "file_extension": ".py",
   "mimetype": "text/x-python",
   "name": "python",
   "nbconvert_exporter": "python",
   "pygments_lexer": "ipython3",
   "version": "3.9.6"
  },
  "orig_nbformat": 4,
  "vscode": {
   "interpreter": {
    "hash": "e3b5fbd04f68e2b0d30e8aa6dfd8616d885f307650246806c8ef721be6274b54"
   }
  }
 },
 "nbformat": 4,
 "nbformat_minor": 2
}
