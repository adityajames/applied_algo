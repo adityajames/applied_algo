{
 "cells": [
  {
   "cell_type": "markdown",
   "metadata": {},
   "source": [
    "##### Anton , a computer uses a different mechanism for the user log-in process. Passwords are made up of symbols and each symbol has a corresponding positive integer value. The correct password is stored in a file, to ensure more protection Anton includes a large number of symbols in addition to the password symbols in the file. Whenever the user tries to log on by using the password, it adds the integer values of the each password symbol and checks if the total value can be formed by sum of few symbols in the password file. Write a python function which takes two lists; first list corresponding to the integer values of symbols in the file; second list is the integer values of symbols of the password entered during login process, and returns the bool value whether Anton allows the log on. For file symbols integer list is [2; 3; 5; 11; 18; 23; 27] and password is [2; 4; 19], then sum of the password symbols is 2+4+19 = 25 and 25 can be formed by taking the elements 2; 5; 18 from file symbols . So Anton will allow the login process"
   ]
  },
  {
   "cell_type": "code",
   "execution_count": 1,
   "metadata": {},
   "outputs": [],
   "source": [
    "from collections import deque\n",
    "import pprint\n",
    "from typing import List\n",
    "import numpy as np\n",
    "import matplotlib.pyplot as plt"
   ]
  },
  {
   "cell_type": "code",
   "execution_count": 2,
   "metadata": {},
   "outputs": [],
   "source": [
    "def next_nodes(A,nodes_to_visit,next_node,visited,flag):\n",
    "\n",
    "    \n",
    "    for pos,val in enumerate(A[next_node]):\n",
    "       if val==1:\n",
    "           index_if_there=next((i for i, v in enumerate(visited) if v[0] == pos), None)\n",
    "           if index_if_there==None:\n",
    "               to_visit=(pos,not flag)\n",
    "               nodes_to_visit.append(to_visit)\n",
    "           #check if the parent and children have the same color\n",
    "           elif visited[index_if_there][1]==flag:\n",
    "               return (None,None)\n",
    "               \n",
    "    visited_node_color=(next_node,flag)\n",
    "    visited.append(visited_node_color)\n",
    "    return(nodes_to_visit,visited)\n",
    "\n",
    "\n",
    "def is_bicolorable(adj_list:List[List[int]]) ->bool:\n",
    "    visited=[]\n",
    "    nodes_to_visit=deque()\n",
    "    i=0\n",
    "    flag=True\n",
    "    while len(visited)<len(adj_list):\n",
    "        if i==0:\n",
    "            nodes_to_visit,visited=next_nodes(adj_list,nodes_to_visit,0,visited,flag)\n",
    "            if nodes_to_visit==None:\n",
    "                return False\n",
    "        else:\n",
    "            nxt_node_=nodes_to_visit.popleft()\n",
    "            nxt_node=nxt_node_[0]\n",
    "            flag=nxt_node_[1]\n",
    "            nodes_to_visit,visited=next_nodes(adj_list,nodes_to_visit,nxt_node,visited,flag)\n",
    "            if nodes_to_visit==None:\n",
    "                return False\n",
    "        i+=1\n",
    "    return True\n",
    "\n"
   ]
  },
  {
   "cell_type": "code",
   "execution_count": 3,
   "metadata": {},
   "outputs": [
    {
     "data": {
      "text/plain": [
       "False"
      ]
     },
     "execution_count": 3,
     "metadata": {},
     "output_type": "execute_result"
    }
   ],
   "source": [
    "#Example of non bicolorable graph\n",
    "A=[[0,1,0,0,1],[1,0,1,1,1],[0,1,0,1,0],[0,1,1,0,1],[1,1,0,1,0]]\n",
    "is_bicolorable(A) "
   ]
  },
  {
   "cell_type": "code",
   "execution_count": 4,
   "metadata": {},
   "outputs": [
    {
     "data": {
      "text/plain": [
       "True"
      ]
     },
     "execution_count": 4,
     "metadata": {},
     "output_type": "execute_result"
    }
   ],
   "source": [
    "#Example of bicolorable graph\n",
    "adj_list=[[0,1,1,0,0,0],[1,0,0,1,1,0],[1,0,0,0,0,1],[0,1,0,0,0,0],[0,1,0,0,0,0],[0,0,1,0,0,1]]\n",
    "is_bicolorable(adj_list) "
   ]
  }
 ],
 "metadata": {
  "kernelspec": {
   "display_name": "Python 3.9.6 64-bit",
   "language": "python",
   "name": "python3"
  },
  "language_info": {
   "codemirror_mode": {
    "name": "ipython",
    "version": 3
   },
   "file_extension": ".py",
   "mimetype": "text/x-python",
   "name": "python",
   "nbconvert_exporter": "python",
   "pygments_lexer": "ipython3",
   "version": "3.9.6"
  },
  "orig_nbformat": 4,
  "vscode": {
   "interpreter": {
    "hash": "e3b5fbd04f68e2b0d30e8aa6dfd8616d885f307650246806c8ef721be6274b54"
   }
  }
 },
 "nbformat": 4,
 "nbformat_minor": 2
}
