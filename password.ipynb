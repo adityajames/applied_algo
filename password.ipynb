{
 "cells": [
  {
   "cell_type": "markdown",
   "metadata": {},
   "source": [
    "##### Anton , a computer uses a different mechanism for the user log-in process. Passwords are made up of symbols and each symbol has a corresponding positive integer value. The correct password is stored in a file, to ensure more protection Anton includes a large number of symbols in addition to the password symbols in the file. Whenever the user tries to log on by using the password, it adds the integer values of the each password symbol and checks if the total value can be formed by sum of few symbols in the password file. Write a python function which takes two lists; first list corresponding to the integer values of symbols in the file; second list is the integer values of symbols of the password entered during login process, and returns the bool value whether Anton allows the log on. For file symbols integer list is [2; 3; 5; 11; 18; 23; 27] and password is [2; 4; 19], then sum of the password symbols is 2+4+19 = 25 and 25 can be formed by taking the elements 2; 5; 18 from file symbols . So Anton will allow the login process"
   ]
  },
  {
   "cell_type": "code",
   "execution_count": 1,
   "metadata": {},
   "outputs": [],
   "source": [
    "def password_check(file_num_list,pwd_num_list):\n",
    "    pwd_sum=sum(pwd_num_list)\n",
    "    #                   columns                                          rows        \n",
    "    table=[[False for i in range(0,pwd_sum+1)] for j in range(0,len(file_num_list)+1)]\n",
    "\n",
    "    for i in table:\n",
    "        i[0]=True\n",
    "    \n",
    "    for i in range(1,len(file_num_list)+1):\n",
    "        # print(i)\n",
    "        for j in range(1,pwd_sum+1):\n",
    "            # print(j)\n",
    "            if table[i-1][j]==True:\n",
    "                table[i][j]=True\n",
    "            if j>=file_num_list[i-1] and table[i-1][j-file_num_list[i-1]] ==True:\n",
    "                table[i][j]=True\n",
    "\n",
    "    return(table[-1][-1])"
   ]
  },
  {
   "cell_type": "code",
   "execution_count": 2,
   "metadata": {},
   "outputs": [
    {
     "data": {
      "text/plain": [
       "True"
      ]
     },
     "execution_count": 2,
     "metadata": {},
     "output_type": "execute_result"
    }
   ],
   "source": [
    "f=[2, 3, 5, 11, 18, 23, 27]\n",
    "p=[2,4,19]\n",
    "\n",
    "password_check(f,p)"
   ]
  },
  {
   "cell_type": "code",
   "execution_count": 3,
   "metadata": {},
   "outputs": [
    {
     "data": {
      "text/plain": [
       "True"
      ]
     },
     "execution_count": 3,
     "metadata": {},
     "output_type": "execute_result"
    }
   ],
   "source": [
    "f=[1,2,4,8]\n",
    "p=[1,3,10]\n",
    "password_check(f,p)"
   ]
  },
  {
   "cell_type": "code",
   "execution_count": 4,
   "metadata": {},
   "outputs": [
    {
     "data": {
      "text/plain": [
       "False"
      ]
     },
     "execution_count": 4,
     "metadata": {},
     "output_type": "execute_result"
    }
   ],
   "source": [
    "f=[1,2,4,8]\n",
    "p=[1,4,20]\n",
    "password_check(f,p)"
   ]
  },
  {
   "cell_type": "code",
   "execution_count": null,
   "metadata": {},
   "outputs": [],
   "source": []
  }
 ],
 "metadata": {
  "kernelspec": {
   "display_name": "Python 3.9.6 64-bit",
   "language": "python",
   "name": "python3"
  },
  "language_info": {
   "codemirror_mode": {
    "name": "ipython",
    "version": 3
   },
   "file_extension": ".py",
   "mimetype": "text/x-python",
   "name": "python",
   "nbconvert_exporter": "python",
   "pygments_lexer": "ipython3",
   "version": "3.9.6"
  },
  "orig_nbformat": 4,
  "vscode": {
   "interpreter": {
    "hash": "e3b5fbd04f68e2b0d30e8aa6dfd8616d885f307650246806c8ef721be6274b54"
   }
  }
 },
 "nbformat": 4,
 "nbformat_minor": 2
}
