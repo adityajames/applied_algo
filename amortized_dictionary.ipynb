{
 "cells": [
  {
   "cell_type": "markdown",
   "metadata": {},
   "source": [
    "### Creating an amortized dictionary"
   ]
  },
  {
   "cell_type": "code",
   "execution_count": 14,
   "metadata": {},
   "outputs": [],
   "source": [
    "import math\n",
    "import pprint"
   ]
  },
  {
   "cell_type": "code",
   "execution_count": 15,
   "metadata": {},
   "outputs": [],
   "source": [
    "class AmorDict():\n",
    "\n",
    "    def __init__(self,x):\n",
    "        self.am_list=x\n",
    "        self.levels=self.num_keys()\n",
    "        self.am_dict=self.create_dict()\n",
    "        for i in x:\n",
    "            self.insert(i)\n",
    "    \n",
    "    def num_keys(self):\n",
    "\n",
    "        size_list=len(self.am_list)\n",
    "        cntr=0\n",
    "        while size_list!=0:\n",
    "            size_list=size_list//2\n",
    "            cntr+=1\n",
    "        return(cntr)    \n",
    "\n",
    "    def create_dict(self):\n",
    "        curr_dict={}\n",
    "        levels=self.levels\n",
    "        for i in range(0,levels):\n",
    "            curr_dict[i]=['empty']        \n",
    "        return(curr_dict)\n",
    "\n",
    "    \n",
    "    def merge(self,collect_list,dict_list):\n",
    "        new_list=[]\n",
    "        collect_len=len(collect_list)\n",
    "        c_i=0\n",
    "        dict_len=len(dict_list)\n",
    "        d_i=0\n",
    "        while True:            \n",
    "            if c_i==collect_len and d_i==dict_len:\n",
    "                return new_list\n",
    "            elif c_i==collect_len and d_i!=dict_len:\n",
    "                new_list.append(dict_list[d_i])\n",
    "                d_i+=1\n",
    "            elif d_i==dict_len and c_i!=collect_len:\n",
    "                new_list.append(collect_list[c_i])\n",
    "                c_i+=1\n",
    "            elif collect_list[c_i]<dict_list[d_i]:\n",
    "                new_list.append(collect_list[c_i])\n",
    "                c_i+=1\n",
    "            else:\n",
    "                new_list.append(dict_list[d_i])\n",
    "                d_i+=1\n",
    "\n",
    "    def insert(self,x):\n",
    "        collect_list=[]\n",
    "        collect_list.append(x)\n",
    "        i=0\n",
    "        while True:\n",
    "            if self.am_dict.get(i,None) == None:\n",
    "                self.am_dict[i]=collect_list\n",
    "                break            \n",
    "            elif self.am_dict[i][0]=='empty':\n",
    "                self.am_dict[i]=collect_list\n",
    "                break\n",
    "            else:\n",
    "                collect_list=self.merge(collect_list,self.am_dict[i]).copy()\n",
    "\n",
    "                self.am_dict[i]=['empty']\n",
    "                i+=1\n",
    "        return(self.am_dict)\n",
    "\n",
    "    def print(self):\n",
    "        for i,j in self.am_dict.items():\n",
    "            print(i,\":\",j)\n",
    "\n",
    "\n",
    "    def search(self,x):\n",
    "        for i in self.am_dict.keys():\n",
    "            list_to_search=self.am_dict[i]\n",
    "            if list_to_search[0]=='empty':\n",
    "                continue\n",
    "            else:\n",
    "                left=0\n",
    "                right=len(list_to_search)-1\n",
    "                mid=(left+right)//2\n",
    "                while left<=right:\n",
    "                    if list_to_search[mid]==x:\n",
    "                        to_return=str(x)+\" present\"+\" in Level \"+str(i)\n",
    "                        return (to_return)\n",
    "                    elif list_to_search[mid]>x:\n",
    "                        right=mid-1\n",
    "                        mid=(left+right)//2\n",
    "                    elif list_to_search[mid]<x:\n",
    "                        left=mid+1\n",
    "                        mid=(left+right)//2\n",
    "                to_return=str(x)+\" not present\"\n",
    "\n",
    "        return(to_return)"
   ]
  },
  {
   "cell_type": "code",
   "execution_count": 16,
   "metadata": {},
   "outputs": [
    {
     "name": "stdout",
     "output_type": "stream",
     "text": [
      "0 : ['empty']\n",
      "1 : ['empty']\n",
      "2 : [42, 45, 67, 75]\n",
      "0 : [14]\n",
      "1 : ['empty']\n",
      "2 : [42, 45, 67, 75]\n",
      "75 present in Level 2\n",
      "100 not present\n"
     ]
    }
   ],
   "source": [
    "amor_dict_object=AmorDict([42,67,45,75])\n",
    "amor_dict_object.print()\n",
    "amor_dict_object.insert(14)\n",
    "amor_dict_object.print()\n",
    "print(amor_dict_object.search(75))\n",
    "print(amor_dict_object.search(100))"
   ]
  },
  {
   "cell_type": "code",
   "execution_count": 17,
   "metadata": {},
   "outputs": [
    {
     "name": "stdout",
     "output_type": "stream",
     "text": [
      "0 : [100]\n",
      "1 : ['empty']\n",
      "2 : [14, 17, 42, 96]\n"
     ]
    }
   ],
   "source": [
    "amor_dict_object=AmorDict([42])\n",
    "amor_dict_object.insert(14)\n",
    "amor_dict_object.insert(96)\n",
    "amor_dict_object.insert(17)\n",
    "amor_dict_object.insert(100)\n",
    "amor_dict_object.search(1000)\n",
    "amor_dict_object.search(100)\n",
    "amor_dict_object.print()"
   ]
  },
  {
   "cell_type": "code",
   "execution_count": 18,
   "metadata": {},
   "outputs": [
    {
     "name": "stdout",
     "output_type": "stream",
     "text": [
      "0 : ['empty']\n",
      "1 : [67, 68]\n",
      "2 : ['empty']\n",
      "3 : [13, 23, 34, 45, 56, 57, 79, 80]\n",
      "4 : [0, 12, 21, 32, 42, 43, 45, 54, 60, 65, 67, 75, 76, 80, 87, 98]\n"
     ]
    }
   ],
   "source": [
    "amor_dict_object=AmorDict([42,67,45,75,60,80,0,98,87,76,65,54,43,32,21,12,13,23,34,45,56,79,80,57,68,67])\n",
    "amor_dict_object.print()"
   ]
  },
  {
   "cell_type": "code",
   "execution_count": 19,
   "metadata": {},
   "outputs": [
    {
     "name": "stdout",
     "output_type": "stream",
     "text": [
      "60 present in Level 4\n"
     ]
    }
   ],
   "source": [
    "print(amor_dict_object.search(60))"
   ]
  },
  {
   "cell_type": "code",
   "execution_count": null,
   "metadata": {},
   "outputs": [],
   "source": []
  }
 ],
 "metadata": {
  "kernelspec": {
   "display_name": "Python 3.9.6 64-bit",
   "language": "python",
   "name": "python3"
  },
  "language_info": {
   "codemirror_mode": {
    "name": "ipython",
    "version": 3
   },
   "file_extension": ".py",
   "mimetype": "text/x-python",
   "name": "python",
   "nbconvert_exporter": "python",
   "pygments_lexer": "ipython3",
   "version": "3.9.6"
  },
  "orig_nbformat": 4,
  "vscode": {
   "interpreter": {
    "hash": "e3b5fbd04f68e2b0d30e8aa6dfd8616d885f307650246806c8ef721be6274b54"
   }
  }
 },
 "nbformat": 4,
 "nbformat_minor": 2
}
