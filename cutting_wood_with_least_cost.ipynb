{
 "cells": [
  {
   "cell_type": "markdown",
   "metadata": {},
   "source": [
    "### cutting a piece of wood such that the total cutting cost of the wood is the least\n",
    "\n",
    "#### For example, a length of wooden log is 10 and the cuts need to be done at [2; 4; 7] then cutting at 2, then at 4, then at 7 would lead to a cost of 10 + 8 + 6 = 24. First cut would be made at 2 for the wooden log of length 10. Hence the first cut costs 10 units. Now the wooden log length is 8 units. Second cut is made on the remaining wooden log of length 8. Hence the second cut costs 8 units. Third cut is made on the remaining wooden log of length 6 units. Similarily third cut is made when the wooden log length is 6 Instead if the cutting order is changed first it is done at 4, then at 2 , then at 7, that would lead to a cost of 10 + 4 + 6 = 20"
   ]
  },
  {
   "cell_type": "code",
   "execution_count": 1,
   "metadata": {},
   "outputs": [],
   "source": [
    "#reference https://courses.csail.mit.edu/6.006/fall11/rec/rec24.pdf\n",
    "def good_cutting(length,cuts_list):\n",
    "\n",
    "    list_cuts=[0]\n",
    "    list_cuts.extend(cuts_list)\n",
    "    list_cuts.append(length)\n",
    "    list_cuts.sort()\n",
    "    # print(list_cuts)\n",
    "\n",
    "    cuts_size=len(list_cuts)\n",
    "\n",
    "    table=[[0 for i in range(0,len(list_cuts))] for j in range(0,len(list_cuts))]\n",
    "\n",
    "    for i in range(cuts_size-1,-1,-1):\n",
    "        for j in range(i,cuts_size):\n",
    "            inter_cuts=[]\n",
    "            for k in range(i+1,j):\n",
    "                inter_cost=table[i][k]+table[k][j]\n",
    "                inter_cuts.append(inter_cost)\n",
    "            if len(inter_cuts)>0:\n",
    "                table[i][j]=(min(inter_cuts))+list_cuts[j]-list_cuts[i]\n",
    "\n",
    "    return(table[0][-1])"
   ]
  },
  {
   "cell_type": "code",
   "execution_count": 2,
   "metadata": {},
   "outputs": [
    {
     "data": {
      "text/plain": [
       "20"
      ]
     },
     "execution_count": 2,
     "metadata": {},
     "output_type": "execute_result"
    }
   ],
   "source": [
    "good_cutting(10,[4,2,7])"
   ]
  },
  {
   "cell_type": "code",
   "execution_count": 3,
   "metadata": {},
   "outputs": [
    {
     "data": {
      "text/plain": [
       "20"
      ]
     },
     "execution_count": 3,
     "metadata": {},
     "output_type": "execute_result"
    }
   ],
   "source": [
    "good_cutting(10,[2,4,7])"
   ]
  },
  {
   "cell_type": "code",
   "execution_count": null,
   "metadata": {},
   "outputs": [],
   "source": []
  }
 ],
 "metadata": {
  "kernelspec": {
   "display_name": "Python 3.9.6 64-bit",
   "language": "python",
   "name": "python3"
  },
  "language_info": {
   "codemirror_mode": {
    "name": "ipython",
    "version": 3
   },
   "file_extension": ".py",
   "mimetype": "text/x-python",
   "name": "python",
   "nbconvert_exporter": "python",
   "pygments_lexer": "ipython3",
   "version": "3.9.6"
  },
  "orig_nbformat": 4,
  "vscode": {
   "interpreter": {
    "hash": "e3b5fbd04f68e2b0d30e8aa6dfd8616d885f307650246806c8ef721be6274b54"
   }
  }
 },
 "nbformat": 4,
 "nbformat_minor": 2
}
